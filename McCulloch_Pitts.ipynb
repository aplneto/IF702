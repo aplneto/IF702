{
 "cells": [
  {
   "cell_type": "markdown",
   "metadata": {},
   "source": [
    "Regra de propagação: $y = f_h [\\sum_{i=1}^nw_ix_i - \\theta]$\n",
    "\n",
    "Algoritmo de aprendizagem:\n",
    "\n",
    "Se um padrão é corretamente classificado:\n",
    "* $W(t+1) = W(t)$, se $\\sum w_ix_i - \\theta\\geq0$ e $x$ pertence a C1\n",
    "* $W(t+1) = W(t)$, se $\\sum w_ix_i - \\theta\\lt0$ e $x$ pertence a C2\n",
    "\n",
    "Se um padrão é incorretamente classificado:\n",
    "* $W(t+1) = W(t)-\\eta x$, se $\\sum w_ix_i - \\theta\\geq0$ e $x$ pertence a C1\n",
    "* $W(t+1) = W(t)+\\eta x$, se $\\sum w_ix_i - \\theta\\lt0$ e $x$ pertence a C2"
   ]
  },
  {
   "cell_type": "markdown",
   "metadata": {},
   "source": [
    "Usando $\\theta=0.5$ e $\\eta=0.4$\n",
    "\n",
    "<!-- Dada uma rede do tipo Perceptron formada por um neurônio com três terminais de entrada, utilizando pesos iniciais $w_0=0.4$, $w_1=-0.6$ e $w_2=0.6$, limiar $\\theta=0.5$ e taxa de aprendizado $\\eta=0.4$, -->"
   ]
  },
  {
   "cell_type": "code",
   "execution_count": 1,
   "metadata": {},
   "outputs": [],
   "source": [
    "import random\n",
    "import matplotlib\n",
    "import matplotlib.pyplot as plt\n",
    "from matplotlib.animation import FuncAnimation\n",
    "import numpy as np\n",
    "%matplotlib inline"
   ]
  },
  {
   "cell_type": "code",
   "execution_count": 2,
   "metadata": {},
   "outputs": [
    {
     "data": {
      "image/png": "[encoded data removed]",
      "text/plain": [
       "<Figure size 432x288 with 1 Axes>"
      ]
     },
     "metadata": {
      "needs_background": "light"
     },
     "output_type": "display_data"
    }
   ],
   "source": [
    "# Static Sample\n",
    "\n",
    "group_1 = ([5, 6, 3, 7], [1, 4, 2, 3])\n",
    "group_2 = ([2, 4, 5, 6], [5, 6, 6, 7])\n",
    "\n",
    "plt.plot(*group_1, 'ro', color='blue')\n",
    "plt.plot(*group_2, 'ro', color='green')\n",
    "\n",
    "plt.show()"
   ]
  },
  {
   "cell_type": "code",
   "execution_count": 3,
   "metadata": {},
   "outputs": [],
   "source": [
    "def evaluate_sample(x, y):\n",
    "    '''\n",
    "    returns 1 if sample belongs to group 1 and 0 if it belongs to group 2\n",
    "    '''\n",
    "    return 1 if (x > y) else 0"
   ]
  },
  {
   "cell_type": "code",
   "execution_count": 4,
   "metadata": {},
   "outputs": [],
   "source": [
    "class Neuron(object):\n",
    "    def __init__(self, cardinality = 2, theta = 0.5, eta = 0.1):\n",
    "        self.__weights = [random.uniform(-0.5, 0.5) for x in range(cardinality)]\n",
    "        self.theta = theta\n",
    "        self.eta = eta\n",
    "        \n",
    "    @property\n",
    "    def weights(self):\n",
    "        return self.__weights\n",
    "    \n",
    "    def iterate(self, sample: list):\n",
    "        '''\n",
    "        Faz uma iteração do Neurônio\n",
    "        '''\n",
    "        if (len(sample) != len(self.__weights)):\n",
    "            raise ValueError(\"A amostra deve ter a mesma quantidde de dimensões do vetor de pesos\")\n",
    "        w = self.__weights\n",
    "        x = sample\n",
    "        _sum = sum([x[t]*w[t] for t in range(len(x))]) - self.theta\n",
    "        y = 1 if (_sum >=0) else 0\n",
    "        if (evaluate_sample(*x) != y):\n",
    "            for i in range(len(w)):\n",
    "                w[i] = w[i] - self.eta*x[i] if y else w[i] + self.eta*x[i]\n",
    "        return w.copy()\n",
    "    \n",
    "    def predict(self, sample: list):\n",
    "        w = self.__weights\n",
    "        x = sample\n",
    "        _sum = sum([x[t]*w[t] for t in range(len(x))]) - self.theta\n",
    "        return 1 if (_sum >=0) else 0"
   ]
  },
  {
   "cell_type": "code",
   "execution_count": 5,
   "metadata": {},
   "outputs": [],
   "source": [
    "neuron = Neuron()\n",
    "counter = 0\n",
    "threshold = 100\n",
    "\n",
    "epochs = []\n",
    "epochs.append(neuron.weights)\n",
    "while (counter < threshold):\n",
    "    counter += 1\n",
    "    samples = (group_1[0] + group_2[0], group_1[1] + group_2[1])\n",
    "    t = random.randint(0, len(samples[0])-1)\n",
    "    sample = [samples[0][t], samples[1][t]]\n",
    "    weights = neuron.iterate(sample)\n",
    "    epochs.append(weights)\n"
   ]
  },
  {
   "cell_type": "code",
   "execution_count": 6,
   "metadata": {},
   "outputs": [
    {
     "name": "stdout",
     "output_type": "stream",
     "text": [
      "True\n",
      "True\n",
      "True\n",
      "True\n",
      "True\n"
     ]
    }
   ],
   "source": [
    "test_samples = ([1, 2, 3, 4, 5], [5, 4, 3, 2, 1])\n",
    "for t in range(len(test_samples[0])):\n",
    "    sample = [test_samples[0][t], test_samples[1][t]]\n",
    "    print(evaluate_sample(*sample) == neuron.predict(sample))"
   ]
  },
  {
   "cell_type": "code",
   "execution_count": null,
   "metadata": {},
   "outputs": [],
   "source": []
  }
 ],
 "metadata": {
  "kernelspec": {
   "display_name": "Python 3",
   "language": "python",
   "name": "python3"
  },
  "language_info": {
   "codemirror_mode": {
    "name": "ipython",
    "version": 3
   },
   "file_extension": ".py",
   "mimetype": "text/x-python",
   "name": "python",
   "nbconvert_exporter": "python",
   "pygments_lexer": "ipython3",
   "version": "3.8.5"
  }
 },
 "nbformat": 4,
 "nbformat_minor": 4
}
