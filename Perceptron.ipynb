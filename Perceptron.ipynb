{
 "cells": [
  {
   "cell_type": "markdown",
   "metadata": {},
   "source": [
    "Regra de propagação: $y = f_h [\\sum_{i=1}^nw_ix_i - \\theta]$\n",
    "\n",
    "Algoritmo de aprendizagem:\n",
    "\n",
    "Se um padrão é corretamente classificado:\n",
    "* $W(t+1) = W(t)$, se $\\sum w_ix_i - \\theta\\geq0$ e $x$ pertence a C1\n",
    "* $W(t+1) = W(t)$, se $\\sum w_ix_i - \\theta\\lt0$ e $x$ pertence a C2\n",
    "\n",
    "Se um padrão é incorretamente classificado:\n",
    "* $W(t+1) = W(t)-\\eta x$, se $\\sum w_ix_i - \\theta\\geq0$ e $x$ pertence a C1\n",
    "* $W(t+1) = W(t)+\\eta x$, se $\\sum w_ix_i - \\theta\\lt0$ e $x$ pertence a C2"
   ]
  },
  {
   "cell_type": "markdown",
   "metadata": {},
   "source": [
    "Usando $\\theta=0.5$ e $\\eta=0.4$\n",
    "\n",
    "<!-- Dada uma rede do tipo Perceptron formada por um neurônio com três terminais de entrada, utilizando pesos iniciais $w_0=0.4$, $w_1=-0.6$ e $w_2=0.6$, limiar $\\theta=0.5$ e taxa de aprendizado $\\eta=0.4$, -->"
   ]
  },
  {
   "cell_type": "code",
   "execution_count": 1,
   "metadata": {},
   "outputs": [],
   "source": [
    "import random\n",
    "import matplotlib\n",
    "import matplotlib.pyplot as plt\n",
    "%matplotlib inline"
   ]
  },
  {
   "cell_type": "code",
   "execution_count": 2,
   "metadata": {},
   "outputs": [
    {
     "data": {
      "image/png": "[encoded data removed]",
      "text/plain": [
       "<Figure size 432x288 with 1 Axes>"
      ]
     },
     "metadata": {
      "needs_background": "light"
     },
     "output_type": "display_data"
    }
   ],
   "source": [
    "# Static Sample\n",
    "\n",
    "group_1 = ([5, 6, 3, 7], [1, 4, 2, 3])\n",
    "group_2 = ([2, 4, 7, 8], [5, 6, 6, 7])\n",
    "\n",
    "plt.plot(*group_1, 'ro', color='blue')\n",
    "plt.plot(*group_2, 'ro', color='green')\n",
    "\n",
    "plt.show()"
   ]
  },
  {
   "cell_type": "code",
   "execution_count": 3,
   "metadata": {},
   "outputs": [],
   "source": [
    "def evaluate_sample(x, y):\n",
    "    '''\n",
    "    returns 1 if sample belongs to group 1 and 0 if it belongs to group 2\n",
    "    '''\n",
    "    s1 = [(group_1[0][t], group_1[1][t]) for t in range(len(group_1[0]))]\n",
    "    s2 = [(group_2[0][t], group_2[1][t]) for t in range(len(group_2[0]))]\n",
    "    return 1 if ((x, y) in group_1) else -1"
   ]
  },
  {
   "cell_type": "code",
   "execution_count": 4,
   "metadata": {},
   "outputs": [],
   "source": [
    "class Neuron(object):\n",
    "    def __init__(self, cardinality = 2, theta = 0.5, eta = 0.4):\n",
    "        self.__weights = [random.uniform(-1, 1) for x in range(cardinality)]\n",
    "        self.theta = theta\n",
    "        self.eta = eta\n",
    "    \n",
    "    def iterate(self, sample: list):\n",
    "        '''\n",
    "        Faz uma iteração do Neurônio\n",
    "        '''\n",
    "        if (len(sample) != len(self.__weights)):\n",
    "            raise ValueError(\"A amostra deve ter a mesma quantidde de dimensões do vetor de pesos\")\n",
    "        w = self.__weights\n",
    "        x = sample\n",
    "        _sum = sum([x[t]*w[t] for t in range(len(x))]) - self.theta\n",
    "        y = 1 if (_sum >=0) else -1\n",
    "        if (not (evaluate_sample(*x) == y)):\n",
    "            for i in range(len(w)):\n",
    "                w[i] = w[i] - self.eta*x[i] if y == -1 else w[i] + self.eta*x[i]\n",
    "        return w\n",
    "    \n",
    "    def predict(self, sample: list):\n",
    "        w = self.__weights\n",
    "        x = sample\n",
    "        _sum = sum([x[t]*w[t] for t in range(len(x))]) - self.theta\n",
    "        return 1 if (_sum >=0) else -1"
   ]
  },
  {
   "cell_type": "code",
   "execution_count": 5,
   "metadata": {},
   "outputs": [
    {
     "name": "stdout",
     "output_type": "stream",
     "text": [
      "[3.379708448957451, 1.0418770127887813]\n",
      "[5.379708448957452, 1.4418770127887814]\n",
      "[7.779708448957452, 3.0418770127887815]\n",
      "[9.779708448957452, 3.4418770127887814]\n",
      "[11.779708448957452, 3.8418770127887814]\n",
      "[13.779708448957452, 4.241877012788781]\n",
      "[16.179708448957452, 5.841877012788782]\n",
      "[18.579708448957454, 7.441877012788781]\n",
      "[20.979708448957453, 9.041877012788781]\n",
      "[22.979708448957453, 9.441877012788781]\n",
      "[24.979708448957453, 9.841877012788782]\n",
      "[26.979708448957453, 10.241877012788782]\n",
      "[29.37970844895745, 11.841877012788782]\n",
      "[31.77970844895745, 13.441877012788781]\n",
      "[33.77970844895745, 13.841877012788782]\n",
      "[35.77970844895745, 14.241877012788782]\n",
      "[38.17970844895745, 15.841877012788782]\n",
      "[40.57970844895745, 17.441877012788783]\n",
      "[42.57970844895745, 17.841877012788782]\n",
      "[44.57970844895745, 18.24187701278878]\n",
      "[46.979708448957446, 19.841877012788782]\n",
      "[49.379708448957444, 21.441877012788783]\n",
      "[51.77970844895744, 23.041877012788785]\n",
      "[53.77970844895744, 23.441877012788783]\n",
      "[56.17970844895744, 25.041877012788785]\n",
      "[58.17970844895744, 25.441877012788783]\n",
      "[60.57970844895744, 27.041877012788785]\n",
      "[62.57970844895744, 27.441877012788783]\n",
      "[64.97970844895744, 29.041877012788785]\n",
      "[67.37970844895744, 30.641877012788786]\n",
      "[69.77970844895745, 32.241877012788784]\n",
      "[71.77970844895745, 32.64187701278878]\n",
      "[74.17970844895746, 34.241877012788784]\n",
      "[76.17970844895746, 34.64187701278878]\n",
      "[78.17970844895746, 35.04187701278878]\n",
      "[80.17970844895746, 35.44187701278878]\n",
      "[82.17970844895746, 35.84187701278878]\n",
      "[84.17970844895746, 36.24187701278878]\n",
      "[86.57970844895746, 37.84187701278878]\n",
      "[88.97970844895747, 39.44187701278878]\n",
      "[91.37970844895747, 41.04187701278878]\n",
      "[93.77970844895748, 42.64187701278878]\n",
      "[96.17970844895748, 44.241877012788784]\n",
      "[98.17970844895748, 44.64187701278878]\n",
      "[100.57970844895749, 46.241877012788784]\n",
      "[102.57970844895749, 46.64187701278878]\n",
      "[104.9797084489575, 48.241877012788784]\n",
      "[106.9797084489575, 48.64187701278878]\n",
      "[109.3797084489575, 50.241877012788784]\n",
      "[111.3797084489575, 50.64187701278878]\n",
      "[113.3797084489575, 51.04187701278878]\n",
      "[115.3797084489575, 51.44187701278878]\n",
      "[117.3797084489575, 51.84187701278878]\n",
      "[119.3797084489575, 52.24187701278878]\n",
      "[121.3797084489575, 52.641877012788775]\n",
      "[123.7797084489575, 54.24187701278878]\n",
      "[126.17970844895751, 55.84187701278878]\n",
      "[128.1797084489575, 56.24187701278878]\n",
      "[130.57970844895752, 57.84187701278878]\n",
      "[132.57970844895752, 58.24187701278878]\n",
      "[134.57970844895752, 58.641877012788775]\n",
      "[136.97970844895752, 60.24187701278878]\n",
      "[138.97970844895752, 60.641877012788775]\n",
      "[141.37970844895753, 62.24187701278878]\n",
      "[143.37970844895753, 62.641877012788775]\n",
      "[145.37970844895753, 63.041877012788774]\n",
      "[147.37970844895753, 63.44187701278877]\n",
      "[149.77970844895754, 65.04187701278877]\n",
      "[152.17970844895754, 66.64187701278877]\n",
      "[154.57970844895755, 68.24187701278876]\n",
      "[156.57970844895755, 68.64187701278877]\n",
      "[158.97970844895755, 70.24187701278876]\n",
      "[160.97970844895755, 70.64187701278877]\n",
      "[163.37970844895756, 72.24187701278876]\n",
      "[165.37970844895756, 72.64187701278877]\n",
      "[167.77970844895756, 74.24187701278876]\n",
      "[169.77970844895756, 74.64187701278877]\n",
      "[172.17970844895757, 76.24187701278876]\n",
      "[174.57970844895758, 77.84187701278876]\n",
      "[176.97970844895758, 79.44187701278875]\n",
      "[178.97970844895758, 79.84187701278876]\n",
      "[181.3797084489576, 81.44187701278875]\n",
      "[183.3797084489576, 81.84187701278876]\n",
      "[185.7797084489576, 83.44187701278875]\n",
      "[187.7797084489576, 83.84187701278876]\n",
      "[189.7797084489576, 84.24187701278876]\n",
      "[192.1797084489576, 85.84187701278876]\n",
      "[194.5797084489576, 87.44187701278875]\n",
      "[196.5797084489576, 87.84187701278876]\n",
      "[198.9797084489576, 89.44187701278875]\n",
      "[200.9797084489576, 89.84187701278876]\n",
      "[203.37970844895762, 91.44187701278875]\n",
      "[205.77970844895762, 93.04187701278875]\n",
      "[207.77970844895762, 93.44187701278875]\n",
      "[210.17970844895763, 95.04187701278875]\n",
      "[212.17970844895763, 95.44187701278875]\n",
      "[214.57970844895763, 97.04187701278875]\n",
      "[216.97970844895764, 98.64187701278874]\n",
      "[219.37970844895764, 100.24187701278873]\n",
      "[221.37970844895764, 100.64187701278874]\n"
     ]
    }
   ],
   "source": [
    "n = Neuron()\n",
    "counter = 0\n",
    "threshold = 100\n",
    "while (counter < threshold):\n",
    "    counter += 1\n",
    "    samples = (group_1[0] + group_2[0], group_1[1] + group_2[1])\n",
    "    t = random.randint(0, len(samples)-1)\n",
    "    sample = [samples[0][t], samples[1][t]]\n",
    "    print(n.iterate(sample))"
   ]
  },
  {
   "cell_type": "code",
   "execution_count": 6,
   "metadata": {},
   "outputs": [
    {
     "name": "stdout",
     "output_type": "stream",
     "text": [
      "1\n"
     ]
    }
   ],
   "source": [
    "print(n.predict((3, 5)))"
   ]
  },
  {
   "cell_type": "code",
   "execution_count": null,
   "metadata": {},
   "outputs": [],
   "source": []
  }
 ],
 "metadata": {
  "kernelspec": {
   "display_name": "Python 3",
   "language": "python",
   "name": "python3"
  },
  "language_info": {
   "codemirror_mode": {
    "name": "ipython",
    "version": 3
   },
   "file_extension": ".py",
   "mimetype": "text/x-python",
   "name": "python",
   "nbconvert_exporter": "python",
   "pygments_lexer": "ipython3",
   "version": "3.8.5"
  }
 },
 "nbformat": 4,
 "nbformat_minor": 4
}
