{
  "nbformat": 4,
  "nbformat_minor": 0,
  "metadata": {
    "colab": {
      "name": "project_pre_processing.ipynb",
      "provenance": [],
      "collapsed_sections": [],
      "authorship_tag": "ABX9TyMFZa+SdPVpVNqqb6feqBHq",
      "include_colab_link": true
    },
    "kernelspec": {
      "name": "python3",
      "display_name": "Python 3"
    },
    "language_info": {
      "name": "python"
    }
  },
  "cells": [
    {
      "cell_type": "markdown",
      "metadata": {
        "id": "view-in-github",
        "colab_type": "text"
      },
      "source": [
        "<a href=\"https://colab.research.google.com/github/aplneto/IF702/blob/master/project_pre_processing.ipynb\" target=\"_parent\"><img src=\"https://colab.research.google.com/assets/colab-badge.svg\" alt=\"Open In Colab\"/></a>"
      ]
    },
    {
      "cell_type": "code",
      "metadata": {
        "colab": {
          "base_uri": "https://localhost:8080/"
        },
        "id": "7q8ITt6_yVjz",
        "outputId": "ec3126a5-67bb-49e6-d479-40997843dafa"
      },
      "source": [
        "from google.colab import drive\n",
        "drive.mount('/content/drive')\n",
        "\n",
        "_file = 'drive/MyDrive/TRNcod.xls'"
      ],
      "execution_count": 1,
      "outputs": [
        {
          "output_type": "stream",
          "text": [
            "Drive already mounted at /content/drive; to attempt to forcibly remount, call drive.mount(\"/content/drive\", force_remount=True).\n"
          ],
          "name": "stdout"
        }
      ]
    },
    {
      "cell_type": "code",
      "metadata": {
        "id": "Ycf7G1Ody-vz",
        "colab": {
          "base_uri": "https://localhost:8080/"
        },
        "outputId": "cc98f526-02f4-4b26-db58-3cefbbc5e1d4"
      },
      "source": [
        "# Separação dos dados em um arquivo para cada classe\n",
        "\n",
        "import pandas as pd\n",
        "import os\n",
        "\n",
        "class_1 = 'drive/MyDrive/TRNcod-class1.csv'\n",
        "class_2 = 'drive/MyDrive/TRNcod-class2.csv'\n",
        "\n",
        "try:\n",
        "  os.remove(class_1)\n",
        "  os.remove(class_2)\n",
        "except FileNotFoundError:\n",
        "  print(\"Arquivos limpos\")\n",
        "else:\n",
        "  print(\"Apagando arquivos\")\n",
        "\n",
        "count = [0, 0]\n",
        "\n",
        "for index, chunk in enumerate(pd.read_table(_file, chunksize=100000)):\n",
        "  print(\"\\rProcessando %iº pedaço\" % (index+1), end='')\n",
        "  csv_c1 = chunk[chunk['IND_BOM_1_1'] == 1]\n",
        "  csv_c2 = chunk[chunk['IND_BOM_1_2'] == 1]\n",
        "  assert(len(chunk) == len(csv_c1) + len(csv_c2))\n",
        "  count[0] += len(csv_c1)\n",
        "  count[1] += len(csv_c2)\n",
        "  csv_c1.to_csv(class_1, index=False, header=False, mode='a')\n",
        "  csv_c2.to_csv(class_2, index=False, header=False, mode='a')\n",
        "        \n",
        "print(\"\\rProcessamento do arquivo concluído\")\n",
        "headers = chunk.columns\n",
        "print(\"Classe 1: %i\\nClasse 2: %i\" % tuple(count))"
      ],
      "execution_count": 2,
      "outputs": [
        {
          "output_type": "stream",
          "text": [
            "Arquivos limpos\n",
            "Processamento do arquivo concluído\n",
            "Classe 1: 255098\n",
            "Classe 2: 134098\n"
          ],
          "name": "stdout"
        }
      ]
    },
    {
      "cell_type": "code",
      "metadata": {
        "colab": {
          "base_uri": "https://localhost:8080/"
        },
        "id": "ZJ4xUuLqCRVP",
        "outputId": "3d0d235c-ad29-438b-a4b7-56ebf2d4992a"
      },
      "source": [
        "# Classe 1\n",
        "\n",
        "import random\n",
        "import progressbar\n",
        "\n",
        "random.seed(4)\n",
        "\n",
        "sizes = [count[0] - int(count[0] * 0.5)] + [int(count[0] * 0.25)] * 2\n",
        "if sum(sizes) < count[0]: sizes[0] += 1\n",
        "\n",
        "base_name = 'drive/MyDrive/if702/TRNcod-class'\n",
        "\n",
        "files = [base_name+'1-train.csv', base_name+'1-valid.csv', base_name+'1-test.csv']\n",
        "\n",
        "try:\n",
        "  for filename in files:\n",
        "    os.remove(filename)\n",
        "except FileNotFoundError:\n",
        "  pass\n",
        "\n",
        "limits = dict(zip(files, sizes))\n",
        "counts = dict(zip(files, [0, 0, 0]))\n",
        "prob = dict(zip(files, [0.5, 0.25, 0.25]))\n",
        "streams = dict(zip(files, [open(x, 'w') for x in files]))\n",
        "\n",
        "bar = progressbar.ProgressBar(maxval=count[0], \\\n",
        "    widgets=[progressbar.Bar('=', '[', ']'), ' ', progressbar.Percentage()])\n",
        "\n",
        "t = 0\n",
        "\n",
        "bar.start()\n",
        "with open(class_1) as csv:\n",
        "  line = csv.readline()\n",
        "  while (line):\n",
        "    bar.update(t)\n",
        "    c = random.choices(files, weights = prob.values())[0]\n",
        "    _f = streams[c]\n",
        "    _f.write(line)\n",
        "    counts[c] += 1\n",
        "    if counts[c] >= limits[c]:\n",
        "      files.remove(c)\n",
        "      prob.pop(c)\n",
        "      print(\"Arquivo %s Completo\" % c)\n",
        "      _f.close()\n",
        "    line = csv.readline()\n",
        "    t += 1\n",
        "bar.finish()\n",
        "\n",
        "print('\\n')\n",
        "print(counts)\n",
        "print(\"Total: %i\" % sum(counts.values()))"
      ],
      "execution_count": 3,
      "outputs": [
        {
          "output_type": "stream",
          "text": [
            "[========================================================================] 100%\n"
          ],
          "name": "stderr"
        },
        {
          "output_type": "stream",
          "text": [
            "Arquivo drive/MyDrive/if702/TRNcod-class1-train.csv Completo\n",
            "Arquivo drive/MyDrive/if702/TRNcod-class1-test.csv Completo\n",
            "Arquivo drive/MyDrive/if702/TRNcod-class1-valid.csv Completo\n",
            "\n",
            "\n",
            "{'drive/MyDrive/if702/TRNcod-class1-train.csv': 127550, 'drive/MyDrive/if702/TRNcod-class1-valid.csv': 63774, 'drive/MyDrive/if702/TRNcod-class1-test.csv': 63774}\n",
            "Total: 255098\n"
          ],
          "name": "stdout"
        }
      ]
    },
    {
      "cell_type": "code",
      "metadata": {
        "colab": {
          "base_uri": "https://localhost:8080/"
        },
        "id": "ZYN8xhcVVoiW",
        "outputId": "ce6692f6-d066-4573-cc36-b323beb3eeeb"
      },
      "source": [
        "class_1_sizes = []\n",
        "\n",
        "for k in counts.keys():\n",
        "  csv = pd.read_csv(k)\n",
        "  print(\"%s: %i\" % (k, len(csv)))\n",
        "  class_1_sizes.append(len(csv))"
      ],
      "execution_count": 4,
      "outputs": [
        {
          "output_type": "stream",
          "text": [
            "drive/MyDrive/if702/TRNcod-class1-train.csv: 127549\n",
            "drive/MyDrive/if702/TRNcod-class1-valid.csv: 63773\n",
            "drive/MyDrive/if702/TRNcod-class1-test.csv: 63773\n"
          ],
          "name": "stdout"
        }
      ]
    },
    {
      "cell_type": "code",
      "metadata": {
        "id": "NhpSACA2laab",
        "colab": {
          "base_uri": "https://localhost:8080/"
        },
        "outputId": "66c5a1fc-199a-4fee-8869-38181a5c71a1"
      },
      "source": [
        "# Classe 2\n",
        "\n",
        "sizes2 = [count[1] - int(count[1] * 0.5)] + [int(count[1] * 0.25)] * 2\n",
        "\n",
        "files = [base_name+'2-train.csv', base_name+'2-valid.csv', base_name+'2-test.csv']\n",
        "\n",
        "try:\n",
        "  for filename in files:\n",
        "    os.remove(filename)\n",
        "except FileNotFoundError:\n",
        "  pass\n",
        "\n",
        "limits = dict(zip(files, sizes2))\n",
        "counts = dict(zip(files, [0, 0, 0]))\n",
        "prob = dict(zip(files, [0.5, 0.25, 0.25]))\n",
        "streams = dict(zip(files, [open(x, 'w') for x in files]))\n",
        "\n",
        "bar = progressbar.ProgressBar(maxval=count[1], \\\n",
        "    widgets=[progressbar.Bar('=', '[', ']'), ' ', progressbar.Percentage()])\n",
        "\n",
        "t = 0\n",
        "\n",
        "bar.start()\n",
        "with open(class_1) as csv:\n",
        "  while (files):\n",
        "    line = csv.readline()\n",
        "    bar.update(t)\n",
        "    c = random.choices(files, weights = prob.values())[0]\n",
        "    _f = streams[c]\n",
        "    _f.write(line)\n",
        "    counts[c] += 1\n",
        "    if counts[c] >= limits[c]:\n",
        "      print(counts[c], limits[c])\n",
        "      files.remove(c)\n",
        "      prob.pop(c)\n",
        "      print(\"Arquivo %s Completo\" % c)\n",
        "      _f.close\n",
        "    t += 1\n",
        "\n",
        "bar.finish()\n",
        "\n",
        "print('\\n')\n",
        "print(counts)\n",
        "print(\"Total: %i\" % sum(counts.values()))"
      ],
      "execution_count": 5,
      "outputs": [
        {
          "output_type": "stream",
          "text": [
            "[========================================================================] 100%\n"
          ],
          "name": "stderr"
        },
        {
          "output_type": "stream",
          "text": [
            "33524 33524\n",
            "Arquivo drive/MyDrive/if702/TRNcod-class2-valid.csv Completo\n",
            "67049 67049\n",
            "Arquivo drive/MyDrive/if702/TRNcod-class2-train.csv Completo\n",
            "33524 33524\n",
            "Arquivo drive/MyDrive/if702/TRNcod-class2-test.csv Completo\n",
            "\n",
            "\n",
            "{'drive/MyDrive/if702/TRNcod-class2-train.csv': 67049, 'drive/MyDrive/if702/TRNcod-class2-valid.csv': 33524, 'drive/MyDrive/if702/TRNcod-class2-test.csv': 33524}\n",
            "Total: 134097\n"
          ],
          "name": "stdout"
        }
      ]
    },
    {
      "cell_type": "code",
      "metadata": {
        "colab": {
          "base_uri": "https://localhost:8080/"
        },
        "id": "FWYAuzmcWnAm",
        "outputId": "67fc8d44-5c24-4b7d-8a3f-b6d8a620eea4"
      },
      "source": [
        "class_2_sizes = []\n",
        "\n",
        "for k in counts.keys():\n",
        "  csv = pd.read_csv(k)\n",
        "  print(\"%s: %i\" % (k, len(csv)))\n",
        "  class_2_sizes.append(len(csv))"
      ],
      "execution_count": 6,
      "outputs": [
        {
          "output_type": "stream",
          "text": [
            "drive/MyDrive/if702/TRNcod-class2-train.csv: 67025\n",
            "drive/MyDrive/if702/TRNcod-class2-valid.csv: 33519\n",
            "drive/MyDrive/if702/TRNcod-class2-test.csv: 33508\n"
          ],
          "name": "stdout"
        }
      ]
    },
    {
      "cell_type": "code",
      "metadata": {
        "id": "XyoMZsf7dD2H"
      },
      "source": [
        "files = [base_name+'2-train.csv', base_name+'2-valid.csv', base_name+'2-test.csv']\n",
        "\n",
        "train_file = open(files[0])\n",
        "train_set = train_file.readlines()\n",
        "train_file.close()\n",
        "train_file = open(files[0], 'a')\n",
        "lim = len(train_set)\n",
        "while (lim < class_1_sizes[0]):\n",
        "  line = random.choice(train_set)\n",
        "  train_file.write(line)\n",
        "  lim += 1\n",
        "train_file.close()"
      ],
      "execution_count": 7,
      "outputs": []
    },
    {
      "cell_type": "code",
      "metadata": {
        "colab": {
          "base_uri": "https://localhost:8080/"
        },
        "id": "7zOKuvzAeupq",
        "outputId": "51eeb3b3-c150-4f9f-ecbf-0f202121440e"
      },
      "source": [
        "csv = pd.read_csv(base_name+'2-train.csv')\n",
        "len(csv)"
      ],
      "execution_count": 8,
      "outputs": [
        {
          "output_type": "execute_result",
          "data": {
            "text/plain": [
              "127548"
            ]
          },
          "metadata": {
            "tags": []
          },
          "execution_count": 8
        }
      ]
    },
    {
      "cell_type": "code",
      "metadata": {
        "id": "XONS-q6lieqD"
      },
      "source": [
        "valid_file = open(files[1])\n",
        "valid_set = valid_file.readlines()\n",
        "valid_file.close()\n",
        "valid_file = open(files[1], 'a')\n",
        "lim = len(valid_set)\n",
        "while (lim < class_1_sizes[1]):\n",
        "  line = random.choice(valid_set)\n",
        "  valid_file.write(line)\n",
        "  lim+=1\n",
        "valid_file.close()"
      ],
      "execution_count": 10,
      "outputs": []
    },
    {
      "cell_type": "code",
      "metadata": {
        "colab": {
          "base_uri": "https://localhost:8080/"
        },
        "id": "avVy0yVgjNBa",
        "outputId": "d20c1bf1-9750-4eae-abf2-5249fa679c82"
      },
      "source": [
        "csv = pd.read_csv(base_name+'2-valid.csv')\n",
        "len(csv)"
      ],
      "execution_count": 11,
      "outputs": [
        {
          "output_type": "execute_result",
          "data": {
            "text/plain": [
              "63772"
            ]
          },
          "metadata": {
            "tags": []
          },
          "execution_count": 11
        }
      ]
    },
    {
      "cell_type": "code",
      "metadata": {
        "id": "sfQfuwZBgklN"
      },
      "source": [
        "# Embaralhando conjuntos\n",
        "\n",
        "files = [base_name+'2-train.csv', base_name+'2-valid.csv', base_name+'2-test.csv'] + [base_name+'1-train.csv', base_name+'1-valid.csv', base_name+'1-test.csv']\n",
        "\n",
        "for f in files:\n",
        "  io = open(f)\n",
        "  io_buff = io.readlines()\n",
        "  io.close()\n",
        "  random.shuffle(io_buff)\n",
        "  io = open(f, 'w')\n",
        "  while io_buff:\n",
        "    io.write(io_buff.pop())"
      ],
      "execution_count": 12,
      "outputs": []
    },
    {
      "cell_type": "code",
      "metadata": {
        "colab": {
          "base_uri": "https://localhost:8080/"
        },
        "id": "5L-Oe4Wgmbd7",
        "outputId": "b4c5b6fc-126b-4ae4-f98e-afae2646ad66"
      },
      "source": [
        "for k in files:\n",
        "  csv = pd.read_csv(k)\n",
        "  print(\"%s: %i\" % (k, len(csv)))"
      ],
      "execution_count": 13,
      "outputs": [
        {
          "output_type": "stream",
          "text": [
            "drive/MyDrive/if702/TRNcod-class2-train.csv: 127548\n",
            "drive/MyDrive/if702/TRNcod-class2-valid.csv: 63772\n",
            "drive/MyDrive/if702/TRNcod-class2-test.csv: 33508\n",
            "drive/MyDrive/if702/TRNcod-class1-train.csv: 127549\n",
            "drive/MyDrive/if702/TRNcod-class1-valid.csv: 63773\n",
            "drive/MyDrive/if702/TRNcod-class1-test.csv: 63760\n"
          ],
          "name": "stdout"
        }
      ]
    }
  ]
}